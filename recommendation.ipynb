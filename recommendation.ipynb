{
 "cells": [
  {
   "cell_type": "code",
   "execution_count": 5,
   "metadata": {},
   "outputs": [
    {
     "name": "stdout",
     "output_type": "stream",
     "text": [
      "Index(['Unnamed: 0', 'id', 'original_language', 'title', 'overview',\n",
      "       'popularity', 'release_date', 'vote_average', 'vote_count'],\n",
      "      dtype='object')\n"
     ]
    }
   ],
   "source": [
    "# Randomly sample 500 movies from kaggle dataset of all top rated movies (5000)\n",
    "import pandas as pd\n",
    "\n",
    "df = pd.read_csv('top_rated_movies.csv')\n",
    "\n",
    "print(df.columns)\n",
    "\n",
    "df_sampled = df.sample(n=500, random_state=1)  # n = 500 movies\n",
    "\n",
    "df_sampled.to_csv('sampled_movies.csv', index=False)"
   ]
  },
  {
   "cell_type": "code",
   "execution_count": 3,
   "metadata": {},
   "outputs": [],
   "source": [
    "import pandas as pd\n",
    "from sklearn.feature_extraction.text import TfidfVectorizer\n",
    "from sklearn.metrics.pairwise import cosine_similarity\n",
    "\n",
    "def load_data(filepath):\n",
    "    \"\"\"\n",
    "    Load dataset containing movie overviews.\n",
    "    \"\"\"\n",
    "    return pd.read_csv(filepath)\n",
    "\n",
    "def preprocess_data(df, text_column):\n",
    "    \"\"\"\n",
    "    Preprocess the text data by filling nulls, removing special characters,\n",
    "    and converting to lowercase.\n",
    "    \"\"\"\n",
    "    if text_column not in df.columns:\n",
    "        raise ValueError(f\"Column '{text_column}' not found in dataframe\")\n",
    "\n",
    "    df[text_column] = df[text_column].fillna('')\n",
    "    df[text_column] = df[text_column].apply(lambda x: re.sub(r'[^a-zA-Z0-9\\s]', '', x))\n",
    "    df[text_column] = df[text_column].str.lower().str.strip()\n",
    "    df[text_column] = df[text_column].replace('\\s+', ' ', regex=True)\n",
    "    return df\n",
    "\n",
    "def build_tfidf_matrix(df, text_column):\n",
    "    \"\"\"\n",
    "    Convert text data into TF-IDF vectors.\n",
    "    \"\"\"\n",
    "    vectorizer = TfidfVectorizer(stop_words='english')\n",
    "    tfidf_matrix = vectorizer.fit_transform(df[text_column])\n",
    "    return tfidf_matrix, vectorizer\n",
    "\n",
    "def get_recommendations(user_input, tfidf_matrix, vectorizer, df, top_n=5):\n",
    "    \"\"\"\n",
    "    Recommend top N items based on cosine similarity, where N = 5.\n",
    "    \"\"\"\n",
    "    user_tfidf = vectorizer.transform([user_input.lower()])\n",
    "    cosine_sim = cosine_similarity(user_tfidf, tfidf_matrix).flatten()\n",
    "    top_indices = cosine_sim.argsort()[-top_n:][::-1]\n",
    "    return df.iloc[top_indices][['title', 'overview']], cosine_sim[top_indices]\n",
    "\n"
   ]
  },
  {
   "cell_type": "code",
   "execution_count": 4,
   "metadata": {},
   "outputs": [
    {
     "name": "stdout",
     "output_type": "stream",
     "text": [
      "Top recommendations:\n",
      "1. The Beach Bum (Score: 0.1883)\n",
      "2. Becoming Jane (Score: 0.1536)\n",
      "3. The Importance of Being Earnest (Score: 0.1514)\n",
      "4. Rifkin’s Festival (Score: 0.1387)\n",
      "5. Only Lovers Left Alive (Score: 0.1125)\n"
     ]
    }
   ],
   "source": [
    "if __name__ == \"__main__\":\n",
    "    # Load and preprocess data\n",
    "    filepath = 'sampled_movies.csv'  # Update with correct path\n",
    "    df = load_data(filepath)\n",
    "    df = preprocess_data(df, 'overview')\n",
    "    \n",
    "    # Build TF-IDF matrix\n",
    "    tfidf_matrix, vectorizer = build_tfidf_matrix(df, 'overview')\n",
    "    \n",
    "    # Get user input\n",
    "    user_input = input(\"Enter a short text description of your preferences: \")\n",
    "    \n",
    "    # Get recommendations\n",
    "    recommendations, scores = get_recommendations(user_input, tfidf_matrix, vectorizer, df)\n",
    "    \n",
    "    # Display results\n",
    "    print(\"Top recommendations:\")\n",
    "    for i, (index, row) in enumerate(recommendations.iterrows()):\n",
    "        print(f\"{i+1}. {row['title']} (Score: {scores[i]:.4f})\")\n"
   ]
  }
 ],
 "metadata": {
  "kernelspec": {
   "display_name": "Python 3",
   "language": "python",
   "name": "python3"
  },
  "language_info": {
   "codemirror_mode": {
    "name": "ipython",
    "version": 3
   },
   "file_extension": ".py",
   "mimetype": "text/x-python",
   "name": "python",
   "nbconvert_exporter": "python",
   "pygments_lexer": "ipython3",
   "version": "3.12.3"
  }
 },
 "nbformat": 4,
 "nbformat_minor": 2
}
