{
 "cells": [
  {
   "cell_type": "code",
   "execution_count": 2,
   "metadata": {},
   "outputs": [
    {
     "ename": "ModuleNotFoundError",
     "evalue": "No module named 'pandas'",
     "output_type": "error",
     "traceback": [
      "\u001b[0;31m---------------------------------------------------------------------------\u001b[0m",
      "\u001b[0;31mModuleNotFoundError\u001b[0m                       Traceback (most recent call last)",
      "Cell \u001b[0;32mIn[2], line 2\u001b[0m\n\u001b[1;32m      1\u001b[0m \u001b[38;5;66;03m# randomly sample 500 movies from kaggle dataset of all movies\u001b[39;00m\n\u001b[0;32m----> 2\u001b[0m \u001b[38;5;28;01mimport\u001b[39;00m\u001b[38;5;250m \u001b[39m\u001b[38;5;21;01mpandas\u001b[39;00m\u001b[38;5;250m \u001b[39m\u001b[38;5;28;01mas\u001b[39;00m\u001b[38;5;250m \u001b[39m\u001b[38;5;21;01mpd\u001b[39;00m\n\u001b[1;32m      4\u001b[0m df \u001b[38;5;241m=\u001b[39m pd\u001b[38;5;241m.\u001b[39mread_csv(\u001b[38;5;124m'\u001b[39m\u001b[38;5;124mtop_rated_movies.csv\u001b[39m\u001b[38;5;124m'\u001b[39m)\n\u001b[1;32m      6\u001b[0m \u001b[38;5;28mprint\u001b[39m(df\u001b[38;5;241m.\u001b[39mcolumns)\n",
      "\u001b[0;31mModuleNotFoundError\u001b[0m: No module named 'pandas'"
     ]
    }
   ],
   "source": [
    "# randomly sample 500 movies from kaggle dataset of all movies\n",
    "import pandas as pd\n",
    "\n",
    "df = pd.read_csv('top_rated_movies.csv')\n",
    "\n",
    "print(df.columns)\n",
    "\n",
    "df_sampled = df.sample(n=500, random_state=1)  # n = 500 movies\n",
    "\n",
    "df_sampled['overview'] = df_sampled['overview'].fillna('').str.lower()\n",
    "\n",
    "df_sampled.to_csv('sampled_movies.csv', index=False)"
   ]
  },
  {
   "cell_type": "code",
   "execution_count": 21,
   "metadata": {},
   "outputs": [],
   "source": [
    "import pandas as pd\n",
    "from sklearn.feature_extraction.text import TfidfVectorizer\n",
    "from sklearn.metrics.pairwise import cosine_similarity\n",
    "\n",
    "def load_data(filepath):\n",
    "    \"\"\"\n",
    "    Load dataset containing item descriptions.\n",
    "    \"\"\"\n",
    "    return pd.read_csv(filepath)\n",
    "\n",
    "def preprocess_data(df, text_column):\n",
    "    \"\"\"\n",
    "    Preprocess the text data by filling nulls and converting to lowercase.\n",
    "    \"\"\"\n",
    "    df[text_column] = df[text_column].fillna('').str.lower()\n",
    "    return df\n",
    "\n",
    "def build_tfidf_matrix(df, text_column):\n",
    "    \"\"\"\n",
    "    Convert text data into TF-IDF vectors.\n",
    "    \"\"\"\n",
    "    vectorizer = TfidfVectorizer(stop_words='english')\n",
    "    tfidf_matrix = vectorizer.fit_transform(df[text_column])\n",
    "    return tfidf_matrix, vectorizer\n",
    "\n",
    "def get_recommendations(user_input, tfidf_matrix, vectorizer, df, top_n=5):\n",
    "    \"\"\"\n",
    "    Recommend top N items based on cosine similarity.\n",
    "    \"\"\"\n",
    "    user_tfidf = vectorizer.transform([user_input.lower()])\n",
    "    cosine_sim = cosine_similarity(user_tfidf, tfidf_matrix).flatten()\n",
    "    top_indices = cosine_sim.argsort()[-top_n:][::-1]\n",
    "    return df.iloc[top_indices][['title', 'overview']], cosine_sim[top_indices]\n",
    "\n"
   ]
  },
  {
   "cell_type": "code",
   "execution_count": 22,
   "metadata": {},
   "outputs": [
    {
     "name": "stdout",
     "output_type": "stream",
     "text": [
      "Top recommendations:\n",
      "1. Space Chimps (Score: 0.2222)\n",
      "2. High Life (Score: 0.1794)\n",
      "3. Rifkin’s Festival (Score: 0.1644)\n",
      "4. The Last Temptation of Christ (Score: 0.1215)\n",
      "5. Dragon: The Bruce Lee Story (Score: 0.1106)\n"
     ]
    }
   ],
   "source": [
    "if __name__ == \"__main__\":\n",
    "    # Load and preprocess data\n",
    "    filepath = 'sampled_movies.csv'  # Update with correct path\n",
    "    df = load_data(filepath)\n",
    "\n",
    "    df = preprocess_data(df, 'overview')\n",
    "    \n",
    "    # Build TF-IDF matrix\n",
    "    tfidf_matrix, vectorizer = build_tfidf_matrix(df, 'overview')\n",
    "    \n",
    "    # Get user input\n",
    "    user_input = input(\"Enter a short text description of your preferences: \")\n",
    "    \n",
    "    # Get recommendations\n",
    "    recommendations, scores = get_recommendations(user_input, tfidf_matrix, vectorizer, df)\n",
    "    \n",
    "    # Display results\n",
    "    print(\"Top recommendations:\")\n",
    "    for i, (index, row) in enumerate(recommendations.iterrows()):\n",
    "        print(f\"{i+1}. {row['title']} (Score: {scores[i]:.4f})\")\n"
   ]
  }
 ],
 "metadata": {
  "kernelspec": {
   "display_name": "Python 3",
   "language": "python",
   "name": "python3"
  },
  "language_info": {
   "codemirror_mode": {
    "name": "ipython",
    "version": 3
   },
   "file_extension": ".py",
   "mimetype": "text/x-python",
   "name": "python",
   "nbconvert_exporter": "python",
   "pygments_lexer": "ipython3",
   "version": "3.12.3"
  }
 },
 "nbformat": 4,
 "nbformat_minor": 2
}
